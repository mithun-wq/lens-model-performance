{
 "cells": [
  {
   "cell_type": "code",
   "execution_count": 2,
   "metadata": {},
   "outputs": [],
   "source": [
    "def rnkOrdering(data_org, bad_col, wgt_col, score_col, n_bkts):\n",
    "    if wgt_col is None:\n",
    "        wgt_col = 'wt'\n",
    "        data_org[wgt_col] = 1\n",
    "    #data_org[score_col] = -1 * data_org[score_col]\n",
    "    data = data_org.sort_values(by=[score_col]).reset_index()\n",
    "    data[\"cum_wgt\"] = data[wgt_col].cumsum()\n",
    "    total = data[wgt_col].sum()\n",
    "    bin_lvl = 0.1\n",
    "    flag = 1\n",
    "    for i in range(len(data)):\n",
    "        if (data.loc[i, \"cum_wgt\"] >= total * bin_lvl) and (bin_lvl < 0.9):\n",
    "            bin_lvl = bin_lvl + 0.1\n",
    "            flag = flag + 1\n",
    "            data.loc[i, \"bucket\"] = flag\n",
    "        else:\n",
    "            data.loc[i, \"bucket\"] = flag\n",
    "    # data['bucket'] = pd.qcut(data[score_col], n_bkts)\n",
    "    grouped = data.groupby('bucket', as_index=True)\n",
    "    data[\"labels\"] = data[bad_col] * data[wgt_col]\n",
    "    agg1 = grouped[score_col].min()\n",
    "    agg2 = grouped[score_col].max()\n",
    "    agg3 = grouped[wgt_col].sum()\n",
    "    agg4 = grouped[\"labels\"].sum()\n",
    "    agg5 = np.round(grouped[score_col].mean() * 100, 2)\n",
    "    ret_tbl = pd.DataFrame({\"min_score\": agg1, \"max_score\": agg2, \"total\": agg3, \"Bads\": agg4, \"Mean_Score\": agg5})\n",
    "    ret_tbl[\"Goods\"] = ret_tbl[\"total\"] - ret_tbl[\"Bads\"]\n",
    "    ret_tbl[\"Bad_Rate\"] = np.round(ret_tbl[\"Bads\"] / ret_tbl[\"total\"], 4) * 100\n",
    "    ret_tbl = ret_tbl.sort_index(axis=0, ascending=False)\n",
    "    ret_tbl.index = range(n_bkts)\n",
    "\n",
    "    ret_tbl[\"Cum_Bad\"] = np.round((ret_tbl.Bads / ret_tbl.Bads.sum()).cumsum(), 4) * 100\n",
    "    ret_tbl[\"Cum_Good\"] = np.round((ret_tbl.Goods / ret_tbl.Goods.sum()).cumsum(), 4) * 100\n",
    "    ret_tbl['KS'] = np.abs(ret_tbl[\"Cum_Bad\"] - ret_tbl[\"Cum_Good\"])\n",
    "\n",
    "    gini = ret_tbl[\"Cum_Bad\"][0] * ret_tbl[\"Cum_Good\"][0] / (2 * 100 * 100)\n",
    "    for i in range(1, n_bkts):\n",
    "        gini += (ret_tbl[\"Cum_Bad\"][i] + ret_tbl[\"Cum_Bad\"][i - 1]) * (ret_tbl[\"Cum_Good\"][i] -\n",
    "                                                                       ret_tbl[\"Cum_Good\"][i - 1]) / (2 * 100 * 100)\n",
    "    gini = np.round(2. * gini - 1., 4) * 100\n",
    "\n",
    "    ks = np.round(ret_tbl.KS.max(), 2)\n",
    "\n",
    "    coltitles = [\"min_score\", \"max_score\", \"Mean_Score\", \"total\", \"Goods\", \"Bads\", \"Bad_Rate\", \"Cum_Bad\", \"Cum_Good\", \"KS\"]\n",
    "\n",
    "    return ret_tbl[coltitles], {\"Gini\": gini, \"KS\": ks}"
   ]
  }
 ],
 "metadata": {
  "kernelspec": {
   "display_name": "Python 3",
   "language": "python",
   "name": "python3"
  },
  "language_info": {
   "codemirror_mode": {
    "name": "ipython",
    "version": 3
   },
   "file_extension": ".py",
   "mimetype": "text/x-python",
   "name": "python",
   "nbconvert_exporter": "python",
   "pygments_lexer": "ipython3",
   "version": "3.8.3"
  }
 },
 "nbformat": 4,
 "nbformat_minor": 4
}